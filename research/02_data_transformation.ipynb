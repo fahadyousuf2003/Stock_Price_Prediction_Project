{
 "cells": [
  {
   "cell_type": "code",
   "execution_count": 2,
   "metadata": {},
   "outputs": [],
   "source": [
    "import os"
   ]
  },
  {
   "cell_type": "code",
   "execution_count": 3,
   "metadata": {},
   "outputs": [
    {
     "data": {
      "text/plain": [
       "'d:\\\\Projects\\\\Stock_Price_Prediction_Project\\\\research'"
      ]
     },
     "execution_count": 3,
     "metadata": {},
     "output_type": "execute_result"
    }
   ],
   "source": [
    "%pwd"
   ]
  },
  {
   "cell_type": "code",
   "execution_count": 4,
   "metadata": {},
   "outputs": [],
   "source": [
    "os.chdir(\"../\")"
   ]
  },
  {
   "cell_type": "code",
   "execution_count": 5,
   "metadata": {},
   "outputs": [
    {
     "data": {
      "text/plain": [
       "'d:\\\\Projects\\\\Stock_Price_Prediction_Project'"
      ]
     },
     "execution_count": 5,
     "metadata": {},
     "output_type": "execute_result"
    }
   ],
   "source": [
    "%pwd"
   ]
  },
  {
   "cell_type": "code",
   "execution_count": 16,
   "metadata": {},
   "outputs": [],
   "source": [
    "from dataclasses import dataclass\n",
    "from pathlib import Path\n",
    "\n",
    "@dataclass(frozen=True)\n",
    "class DataTransformationConfig:\n",
    "    root_dir: Path\n",
    "    apple_data_dir: Path\n",
    "    amazon_data_dir: Path\n",
    "    google_data_dir: Path\n",
    "    microsoft_data_dir: Path\n",
    "    transformed_apple_data_dir: Path\n",
    "    transformed_amazon_data_dir: Path\n",
    "    transformed_google_data_dir: Path\n",
    "    transformed_microsoft_data_dir: Path"
   ]
  },
  {
   "cell_type": "code",
   "execution_count": 9,
   "metadata": {},
   "outputs": [],
   "source": [
    "from smPredictor.constants import *\n",
    "from smPredictor.utils.common import read_yaml, create_directories"
   ]
  },
  {
   "cell_type": "code",
   "execution_count": 17,
   "metadata": {},
   "outputs": [],
   "source": [
    "class ConfigurationManager:\n",
    "    def __init__(\n",
    "        self,\n",
    "        config_filepath=CONFIG_FILE_PATH,\n",
    "        params_filepath=PARAMS_FILE_PATH\n",
    "    ):\n",
    "        self.config = read_yaml(config_filepath)\n",
    "        self.params = read_yaml(params_filepath)\n",
    "\n",
    "        create_directories([self.config.artifacts_root])\n",
    "        \n",
    "    def get_data_transformation_config(self) -> DataTransformationConfig:\n",
    "        config = self.config.data_transformation\n",
    "        \n",
    "        create_directories([config.root_dir])\n",
    "        \n",
    "        data_transformation_config = DataTransformationConfig(\n",
    "            root_dir=config.root_dir,\n",
    "            apple_data_dir=config.apple_data_dir,\n",
    "            amazon_data_dir=config.apple_data_dir,\n",
    "            google_data_dir=config.apple_data_dir,\n",
    "            microsoft_data_dir=config.apple_data_dir,\n",
    "            transformed_apple_data_dir= config.transformed_apple_data_dir,\n",
    "            transformed_amazon_data_dir=config.transformed_amazon_data_dir,\n",
    "            transformed_google_data_dir=config.transformed_google_data_dir,\n",
    "            transformed_microsoft_data_dir=config.transformed_microsoft_data_dir\n",
    "            \n",
    "        )\n",
    "        \n",
    "        return data_transformation_config"
   ]
  },
  {
   "cell_type": "code",
   "execution_count": 27,
   "metadata": {},
   "outputs": [],
   "source": [
    "import pandas as pd\n",
    "from smPredictor import logger\n",
    "from sklearn.preprocessing import MinMaxScaler\n",
    "import numpy as np\n",
    "import os\n",
    "\n"
   ]
  },
  {
   "cell_type": "code",
   "execution_count": 28,
   "metadata": {},
   "outputs": [],
   "source": [
    "class DataTransformation:\n",
    "    def __init__(self, config: DataTransformationConfig):\n",
    "        self.config = config\n",
    "\n",
    "    def transform_data(self):\n",
    "        # Transformations for Apple data\n",
    "        apple_data = pd.read_csv(self.config.apple_data_dir)\n",
    "        apple_data = apple_data.iloc[1:]\n",
    "        apple_data.rename(columns={\"Price\": \"Date\"}, inplace=True)\n",
    "        apple_data = apple_data.drop(apple_data.index[0])\n",
    "\n",
    "        # Keep only 'Close' column and scale the data\n",
    "        apple_data = apple_data.filter(['Close'])\n",
    "        apple_dataset = apple_data.values\n",
    "        apple_training_data_len = int(np.ceil(len(apple_dataset) * 0.95))\n",
    "        scaler = MinMaxScaler(feature_range=(0, 1))\n",
    "        apple_scaled_data = scaler.fit_transform(apple_dataset)\n",
    "        apple_train_data = apple_scaled_data[:apple_training_data_len]\n",
    "\n",
    "        # Convert to DataFrame\n",
    "        apple_train_data_df = pd.DataFrame(apple_train_data)\n",
    "\n",
    "        # Ensure output directory exists\n",
    "        os.makedirs(self.config.transformed_apple_data_dir, exist_ok=True)\n",
    "\n",
    "        # Save the transformed Apple data\n",
    "        apple_train_data_df.to_csv(\n",
    "            os.path.join(self.config.transformed_apple_data_dir, \"transformed_apple.csv\"), \n",
    "            index=False\n",
    "        )\n",
    "        logger.info(\"Transformed Apple Data saved successfully\")\n",
    "        print(f\"Apple data shape: {apple_train_data_df.shape}\")\n",
    "\n",
    "        # Repeat for other datasets (Amazon, Google, Microsoft)\n",
    "        for company, data_dir, save_dir, save_name in [\n",
    "            (\"Amazon\", self.config.amazon_data_dir, self.config.transformed_amazon_data_dir, \"transformed_amazon.csv\"),\n",
    "            (\"Google\", self.config.google_data_dir, self.config.transformed_google_data_dir, \"transformed_google.csv\"),\n",
    "            (\"Microsoft\", self.config.microsoft_data_dir, self.config.transformed_microsoft_data_dir, \"transformed_microsoft.csv\"),\n",
    "        ]:\n",
    "            data = pd.read_csv(data_dir)\n",
    "            data = data.iloc[1:]\n",
    "            data.rename(columns={\"Price\": \"Date\"}, inplace=True)\n",
    "            data = data.drop(data.index[0])\n",
    "            data = data.filter(['Close'])\n",
    "            dataset = data.values\n",
    "            training_data_len = int(np.ceil(len(dataset) * 0.95))\n",
    "            scaled_data = scaler.fit_transform(dataset)\n",
    "            train_data = scaled_data[:training_data_len]\n",
    "            train_data_df = pd.DataFrame(train_data)\n",
    "            os.makedirs(save_dir, exist_ok=True)\n",
    "            train_data_df.to_csv(os.path.join(save_dir, save_name), index=False)\n",
    "            logger.info(f\"Transformed {company} Data saved successfully\")\n",
    "            print(f\"{company} data shape: {train_data_df.shape}\")\n"
   ]
  },
  {
   "cell_type": "code",
   "execution_count": 26,
   "metadata": {},
   "outputs": [
    {
     "name": "stdout",
     "output_type": "stream",
     "text": [
      "[2024-11-29 00:43:50,054: INFO: common: yaml file: config\\config.yaml loaded successfully]\n",
      "[2024-11-29 00:43:50,057: INFO: common: yaml file: params.yaml loaded successfully]\n",
      "[2024-11-29 00:43:50,060: INFO: common: created directory at: artifacts]\n",
      "[2024-11-29 00:43:50,062: INFO: common: created directory at: artifacts/data_transformation]\n",
      "[2024-11-29 00:43:50,138: INFO: 1006999031: Transformed Apple Data saved successfully]\n",
      "Apple data shape: (3086, 1)\n",
      "[2024-11-29 00:43:50,205: INFO: 1006999031: Transformed Amazon Data saved successfully]\n",
      "Amazon data shape: (3086, 1)\n",
      "[2024-11-29 00:43:50,255: INFO: 1006999031: Transformed Google Data saved successfully]\n",
      "Google data shape: (3086, 1)\n",
      "[2024-11-29 00:43:50,342: INFO: 1006999031: Transformed Microsoft Data saved successfully]\n",
      "Microsoft data shape: (3086, 1)\n"
     ]
    }
   ],
   "source": [
    "try:\n",
    "    config = ConfigurationManager()\n",
    "    data_transformation_config = config.get_data_transformation_config()\n",
    "    data_transformation = DataTransformation(config=data_transformation_config)\n",
    "    data_transformation.transform_data()\n",
    "except Exception as e:\n",
    "    raise e"
   ]
  }
 ],
 "metadata": {
  "kernelspec": {
   "display_name": "Python 3",
   "language": "python",
   "name": "python3"
  },
  "language_info": {
   "codemirror_mode": {
    "name": "ipython",
    "version": 3
   },
   "file_extension": ".py",
   "mimetype": "text/x-python",
   "name": "python",
   "nbconvert_exporter": "python",
   "pygments_lexer": "ipython3",
   "version": "3.12.0"
  }
 },
 "nbformat": 4,
 "nbformat_minor": 2
}
