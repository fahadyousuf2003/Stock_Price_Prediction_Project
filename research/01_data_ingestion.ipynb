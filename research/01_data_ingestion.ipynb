{
 "cells": [
  {
   "cell_type": "code",
   "execution_count": 1,
   "metadata": {},
   "outputs": [],
   "source": [
    "import os"
   ]
  },
  {
   "cell_type": "code",
   "execution_count": 2,
   "metadata": {},
   "outputs": [
    {
     "data": {
      "text/plain": [
       "'d:\\\\Projects\\\\Stock_Price_Prediction_Project\\\\research'"
      ]
     },
     "execution_count": 2,
     "metadata": {},
     "output_type": "execute_result"
    }
   ],
   "source": [
    "%pwd"
   ]
  },
  {
   "cell_type": "code",
   "execution_count": 3,
   "metadata": {},
   "outputs": [],
   "source": [
    "os.chdir(\"../\")"
   ]
  },
  {
   "cell_type": "code",
   "execution_count": 4,
   "metadata": {},
   "outputs": [
    {
     "data": {
      "text/plain": [
       "'d:\\\\Projects\\\\Stock_Price_Prediction_Project'"
      ]
     },
     "execution_count": 4,
     "metadata": {},
     "output_type": "execute_result"
    }
   ],
   "source": [
    "%pwd"
   ]
  },
  {
   "cell_type": "code",
   "execution_count": 24,
   "metadata": {},
   "outputs": [],
   "source": [
    "from dataclasses import dataclass\n",
    "from pathlib import Path\n",
    "\n",
    "@dataclass(frozen=True)\n",
    "class DataIngestionConfig:\n",
    "    root_dir: Path\n",
    "    tickers: list\n",
    "    start_date: str\n",
    "    end_date: str\n",
    "    local_data_dir: Path"
   ]
  },
  {
   "cell_type": "code",
   "execution_count": 8,
   "metadata": {},
   "outputs": [],
   "source": [
    "from smPredictor.constants import *\n",
    "from smPredictor.utils.common import read_yaml, create_directories"
   ]
  },
  {
   "cell_type": "code",
   "execution_count": 32,
   "metadata": {},
   "outputs": [],
   "source": [
    "class ConfigurationManager:\n",
    "    def __init__(\n",
    "        self,\n",
    "        config_filepath=CONFIG_FILE_PATH,\n",
    "        params_filepath=PARAMS_FILE_PATH\n",
    "    ):\n",
    "        self.config = read_yaml(config_filepath)\n",
    "        self.params = read_yaml(params_filepath)\n",
    "\n",
    "        create_directories([self.config.artifacts_root])\n",
    "\n",
    "    def get_data_ingestion_config(self) -> DataIngestionConfig:\n",
    "        config = self.config.data_ingestion\n",
    "\n",
    "        create_directories([config.root_dir])\n",
    "\n",
    "        # Ensure tickers is a list\n",
    "        if not isinstance(config.tickers, list):\n",
    "            raise ValueError(\"Tickers should be a list in the configuration file.\")\n",
    "\n",
    "        data_ingestion_config = DataIngestionConfig(\n",
    "            root_dir=config.root_dir,\n",
    "            tickers=config.tickers,  # No change in how tickers is passed\n",
    "            start_date=config.start_date,\n",
    "            end_date=config.end_date,\n",
    "            local_data_dir=config.local_data_dir\n",
    "        )\n",
    "        \n",
    "        return data_ingestion_config\n"
   ]
  },
  {
   "cell_type": "code",
   "execution_count": 28,
   "metadata": {},
   "outputs": [],
   "source": [
    "import os\n",
    "import yfinance as yf\n",
    "from pandas_datareader.data import DataReader\n",
    "from pandas_datareader import data as pdr\n",
    "from datetime import datetime\n",
    "from smPredictor import logger"
   ]
  },
  {
   "cell_type": "code",
   "execution_count": 29,
   "metadata": {},
   "outputs": [],
   "source": [
    "class DataIngestion:\n",
    "    def __init__(self, config: DataIngestionConfig):\n",
    "        self.config = config\n",
    "        \n",
    "    def get_data(self):\n",
    "        # Ensure the local data directory and all subdirectories exist\n",
    "        os.makedirs(self.config.local_data_dir, exist_ok=True)\n",
    "\n",
    "        # Parse tickers, start_date, and end_date from the config\n",
    "        tickers = self.config.tickers\n",
    "        \n",
    "        # Validate tickers to ensure it is a list\n",
    "        if not isinstance(tickers, list):\n",
    "            raise ValueError(\"Tickers should be a list.\")\n",
    "\n",
    "        start_date = self.config.start_date\n",
    "        \n",
    "        # Convert 'now' to current date if 'end_date' is 'now'\n",
    "        end_date = (\n",
    "            datetime.now().strftime(\"%Y-%m-%d\") \n",
    "            if self.config.end_date.lower() == \"now\" \n",
    "            else self.config.end_date\n",
    "        )\n",
    "\n",
    "        # Download stock data for each ticker\n",
    "        for ticker in tickers:\n",
    "            try:\n",
    "                print(f\"Downloading data for {ticker}...\")\n",
    "                # Fetch the stock data using yfinance\n",
    "                data = yf.download(ticker, start=start_date, end=end_date)\n",
    "\n",
    "                # Check if data is empty\n",
    "                if data.empty:\n",
    "                    print(f\"No data found for {ticker}. Skipping.\")\n",
    "                    continue\n",
    "\n",
    "                # Ensure the directory for each stock exists\n",
    "                file_path = os.path.join(self.config.local_data_dir, f\"{ticker}.csv\")\n",
    "                \n",
    "                # Save the data to a CSV file\n",
    "                data.to_csv(file_path)\n",
    "                print(f\"Saved data for {ticker} to {file_path}\")\n",
    "\n",
    "            except Exception as e:\n",
    "                print(f\"Failed to download data for {ticker}: {e}\")\n"
   ]
  },
  {
   "cell_type": "code",
   "execution_count": 30,
   "metadata": {},
   "outputs": [
    {
     "name": "stdout",
     "output_type": "stream",
     "text": [
      "[2024-11-28 20:31:22,737: INFO: common: yaml file: config\\config.yaml loaded successfully]\n",
      "[2024-11-28 20:31:22,740: INFO: common: yaml file: params.yaml loaded successfully]\n",
      "[2024-11-28 20:31:22,743: INFO: common: created directory at: artifacts]\n",
      "[2024-11-28 20:31:22,746: INFO: common: created directory at: artifacts/data_ingestion]\n",
      "Downloading data for AAPL...\n"
     ]
    },
    {
     "name": "stderr",
     "output_type": "stream",
     "text": [
      "[*********************100%***********************]  1 of 1 completed\n",
      "[*********************100%***********************]  1 of 1 completed\n",
      "[*********************100%***********************]  1 of 1 completed"
     ]
    },
    {
     "name": "stdout",
     "output_type": "stream",
     "text": [
      "Saved data for AAPL to artifacts/data_ingestion/raw_data\\AAPL.csv\n",
      "Downloading data for GOOG...\n",
      "Saved data for GOOG to artifacts/data_ingestion/raw_data\\GOOG.csv\n",
      "Downloading data for MSFT...\n"
     ]
    },
    {
     "name": "stderr",
     "output_type": "stream",
     "text": [
      "\n",
      "[*********************100%***********************]  1 of 1 completed"
     ]
    },
    {
     "name": "stdout",
     "output_type": "stream",
     "text": [
      "Saved data for MSFT to artifacts/data_ingestion/raw_data\\MSFT.csv\n",
      "Downloading data for AMZN...\n",
      "Saved data for AMZN to artifacts/data_ingestion/raw_data\\AMZN.csv\n"
     ]
    },
    {
     "name": "stderr",
     "output_type": "stream",
     "text": [
      "\n"
     ]
    }
   ],
   "source": [
    "try:\n",
    "    # Initialize Configuration Manager\n",
    "    config = ConfigurationManager()\n",
    "    data_ingestion_config = config.get_data_ingestion_config()\n",
    "    \n",
    "    # Initialize Data Ingestion and fetch data\n",
    "    data_ingestion = DataIngestion(config=data_ingestion_config)\n",
    "    data_ingestion.get_data()  # Fetch stock data and save as CSVs\n",
    "\n",
    "except Exception as e:\n",
    "    print(f\"An error occurred: {e}\")\n",
    "    raise e\n"
   ]
  }
 ],
 "metadata": {
  "kernelspec": {
   "display_name": "Python 3",
   "language": "python",
   "name": "python3"
  },
  "language_info": {
   "codemirror_mode": {
    "name": "ipython",
    "version": 3
   },
   "file_extension": ".py",
   "mimetype": "text/x-python",
   "name": "python",
   "nbconvert_exporter": "python",
   "pygments_lexer": "ipython3",
   "version": "3.12.0"
  }
 },
 "nbformat": 4,
 "nbformat_minor": 2
}
