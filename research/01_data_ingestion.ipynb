{
 "cells": [
  {
   "cell_type": "code",
   "execution_count": 1,
   "metadata": {},
   "outputs": [],
   "source": [
    "import os"
   ]
  },
  {
   "cell_type": "code",
   "execution_count": 2,
   "metadata": {},
   "outputs": [
    {
     "data": {
      "text/plain": [
       "'d:\\\\Projects\\\\Stock_Price_Prediction_Project\\\\research'"
      ]
     },
     "execution_count": 2,
     "metadata": {},
     "output_type": "execute_result"
    }
   ],
   "source": [
    "%pwd"
   ]
  },
  {
   "cell_type": "code",
   "execution_count": 3,
   "metadata": {},
   "outputs": [],
   "source": [
    "os.chdir(\"../\")"
   ]
  },
  {
   "cell_type": "code",
   "execution_count": 4,
   "metadata": {},
   "outputs": [
    {
     "data": {
      "text/plain": [
       "'d:\\\\Projects\\\\Stock_Price_Prediction_Project'"
      ]
     },
     "execution_count": 4,
     "metadata": {},
     "output_type": "execute_result"
    }
   ],
   "source": [
    "%pwd"
   ]
  },
  {
   "cell_type": "code",
   "execution_count": 20,
   "metadata": {},
   "outputs": [],
   "source": [
    "from dataclasses import dataclass\n",
    "from pathlib import Path\n",
    "\n",
    "@dataclass(frozen=True)\n",
    "class DataIngestionConfig:\n",
    "    root_dir: Path\n",
    "    itickers: list\n",
    "    ptickers: list\n",
    "    istart_date: str\n",
    "    iend_date: str\n",
    "    pstart_date: str\n",
    "    pend_date: str\n",
    "    internationalStocks_local_data_dir: Path\n",
    "    pakistanStocks_local_data_dir: Path"
   ]
  },
  {
   "cell_type": "code",
   "execution_count": 21,
   "metadata": {},
   "outputs": [],
   "source": [
    "from smPredictor.constants import *\n",
    "from smPredictor.utils.common import read_yaml, create_directories"
   ]
  },
  {
   "cell_type": "code",
   "execution_count": 22,
   "metadata": {},
   "outputs": [],
   "source": [
    "class ConfigurationManager:\n",
    "    def __init__(\n",
    "        self,\n",
    "        config_filepath=CONFIG_FILE_PATH,\n",
    "        params_filepath=PARAMS_FILE_PATH\n",
    "    ):\n",
    "        self.config = read_yaml(config_filepath)\n",
    "        self.params = read_yaml(params_filepath)\n",
    "\n",
    "        create_directories([self.config.artifacts_root])\n",
    "\n",
    "    def get_data_ingestion_config(self) -> DataIngestionConfig:\n",
    "        config = self.config.data_ingestion\n",
    "\n",
    "        create_directories([config.root_dir])\n",
    "\n",
    "        # Ensure tickers is a list\n",
    "        if not isinstance(config.itickers, list):\n",
    "            raise ValueError(\"Pakistani Tickers should be a list in the configuration file.\")\n",
    "        if not isinstance(config.ptickers, list):\n",
    "            raise ValueError(\"Pakistani Tickers should be a list in the configuration file.\")\n",
    "\n",
    "        data_ingestion_config = DataIngestionConfig(\n",
    "            root_dir=config.root_dir,\n",
    "            itickers=config.itickers,\n",
    "            ptickers=config.ptickers,\n",
    "            istart_date=config.istart_date,\n",
    "            iend_date=config.iend_date,\n",
    "            pstart_date=config.pstart_date,\n",
    "            pend_date=config.pend_date,\n",
    "            internationalStocks_local_data_dir=config.internationalStocks_local_data_dir,\n",
    "            pakistanStocks_local_data_dir=config.pakistanStocks_local_data_dir\n",
    "        )\n",
    "        \n",
    "        return data_ingestion_config\n"
   ]
  },
  {
   "cell_type": "code",
   "execution_count": 23,
   "metadata": {},
   "outputs": [],
   "source": [
    "import os\n",
    "import yfinance as yf\n",
    "from pandas_datareader.data import DataReader\n",
    "from pandas_datareader import data as pdr\n",
    "from datetime import datetime, date\n",
    "from smPredictor import logger\n",
    "from psx import stocks"
   ]
  },
  {
   "cell_type": "code",
   "execution_count": 26,
   "metadata": {},
   "outputs": [],
   "source": [
    "class DataIngestion:\n",
    "    def __init__(self, config: DataIngestionConfig):\n",
    "        self.config = config\n",
    "        \n",
    "    def get_data(self):\n",
    "        os.makedirs(self.config.internationalStocks_local_data_dir, exist_ok=True)\n",
    "        os.makedirs(self.config.pakistanStocks_local_data_dir, exist_ok=True)\n",
    "\n",
    "        itickers = self.config.itickers\n",
    "        ptickers = self.config.ptickers\n",
    "        \n",
    "        # Validate tickers to ensure they are lists\n",
    "        if not isinstance(itickers, list):\n",
    "            raise ValueError(\"International Tickers should be a list.\")\n",
    "        if not isinstance(ptickers, list):\n",
    "            raise ValueError(\"Pakistan Tickers should be a list.\")\n",
    "\n",
    "        istart_date = self.config.istart_date\n",
    "        iend_date = (\n",
    "            datetime.now().strftime(\"%Y-%m-%d\") \n",
    "            if isinstance(self.config.iend_date, str) and self.config.iend_date.lower() == \"now\"\n",
    "            else self.config.iend_date\n",
    "        )\n",
    "\n",
    "        # Download stock data for International tickers\n",
    "        for iticker in itickers:\n",
    "            try:\n",
    "                print(f\"Downloading data for {iticker}...\")\n",
    "                idata = yf.download(iticker, start=istart_date, end=iend_date)\n",
    "                if idata.empty:\n",
    "                    print(f\"No data found for {iticker}. Skipping.\")\n",
    "                    continue\n",
    "                ifile_path = os.path.join(self.config.internationalStocks_local_data_dir, f\"{iticker}.csv\")\n",
    "                idata.to_csv(ifile_path)\n",
    "                print(f\"Saved data for {iticker} to {ifile_path}\")\n",
    "            except Exception as e:\n",
    "                print(f\"Failed to download data for {iticker}: {e}\")\n",
    "        \n",
    "        # Handle date parsing for Pakistani tickers\n",
    "        pstart_date = (\n",
    "            self.config.pstart_date\n",
    "            if isinstance(self.config.pstart_date, date)\n",
    "            else datetime.strptime(self.config.pstart_date, \"%Y-%m-%d\").date()\n",
    "        )\n",
    "        pend_date = (\n",
    "            date.today()\n",
    "            if isinstance(self.config.pend_date, str) and self.config.pend_date.lower() == \"now\"\n",
    "            else self.config.pend_date\n",
    "            if isinstance(self.config.pend_date, date)\n",
    "            else datetime.strptime(self.config.pend_date, \"%Y-%m-%d\").date()\n",
    "        )\n",
    "\n",
    "        # Download stock data for Pakistani tickers\n",
    "        for pticker in ptickers:\n",
    "            try:\n",
    "                print(f\"Downloading data for {pticker}...\")\n",
    "                pdata = stocks(pticker, start=pstart_date, end=pend_date)\n",
    "                if pdata.empty:\n",
    "                    print(f\"No data found for {pticker}. Skipping.\")\n",
    "                    continue\n",
    "                pfile_path = os.path.join(self.config.pakistanStocks_local_data_dir, f\"{pticker}.csv\")\n",
    "                pdata.to_csv(pfile_path)\n",
    "                print(f\"Saved data for {pticker} to {pfile_path}\")\n",
    "            except Exception as e:\n",
    "                print(f\"Failed to download data for {pticker}: {e}\")\n"
   ]
  },
  {
   "cell_type": "code",
   "execution_count": 27,
   "metadata": {},
   "outputs": [
    {
     "name": "stdout",
     "output_type": "stream",
     "text": [
      "[2024-11-30 17:50:04,546: INFO: common: yaml file: config\\config.yaml loaded successfully]\n",
      "[2024-11-30 17:50:04,555: INFO: common: yaml file: params.yaml loaded successfully]\n",
      "[2024-11-30 17:50:04,562: INFO: common: created directory at: artifacts]\n",
      "[2024-11-30 17:50:04,566: INFO: common: created directory at: artifacts/data_ingestion]\n"
     ]
    },
    {
     "name": "stderr",
     "output_type": "stream",
     "text": [
      "[*********************100%***********************]  1 of 1 completed"
     ]
    },
    {
     "name": "stdout",
     "output_type": "stream",
     "text": [
      "Downloading data for AAPL...\n"
     ]
    },
    {
     "name": "stderr",
     "output_type": "stream",
     "text": [
      "\n"
     ]
    },
    {
     "name": "stdout",
     "output_type": "stream",
     "text": [
      "Saved data for AAPL to artifacts/data_ingestion/international_stocks/raw_data\\AAPL.csv\n",
      "Downloading data for GOOG...\n"
     ]
    },
    {
     "name": "stderr",
     "output_type": "stream",
     "text": [
      "[*********************100%***********************]  1 of 1 completed\n",
      "[*********************100%***********************]  1 of 1 completed"
     ]
    },
    {
     "name": "stdout",
     "output_type": "stream",
     "text": [
      "Saved data for GOOG to artifacts/data_ingestion/international_stocks/raw_data\\GOOG.csv\n",
      "Downloading data for MSFT...\n"
     ]
    },
    {
     "name": "stderr",
     "output_type": "stream",
     "text": [
      "\n",
      "[*********************100%***********************]  1 of 1 completed"
     ]
    },
    {
     "name": "stdout",
     "output_type": "stream",
     "text": [
      "Saved data for MSFT to artifacts/data_ingestion/international_stocks/raw_data\\MSFT.csv\n",
      "Downloading data for AMZN...\n"
     ]
    },
    {
     "name": "stderr",
     "output_type": "stream",
     "text": [
      "\n"
     ]
    },
    {
     "name": "stdout",
     "output_type": "stream",
     "text": [
      "Saved data for AMZN to artifacts/data_ingestion/international_stocks/raw_data\\AMZN.csv\n",
      "Downloading data for SILK...\n"
     ]
    },
    {
     "name": "stderr",
     "output_type": "stream",
     "text": [
      "Downloading SILK's Data: 100%|██████████| 158/158 [00:24<00:00,  6.48it/s]\n",
      "c:\\Users\\user\\AppData\\Local\\Programs\\Python\\Python312\\Lib\\site-packages\\psx\\web.py:100: FutureWarning: The behavior of array concatenation with empty entries is deprecated. In a future version, this will no longer exclude empty items when determining the result dtype. To retain the old behavior, exclude the empty entries before the concat operation.\n",
      "  data = pd.concat(data)\n"
     ]
    },
    {
     "name": "stdout",
     "output_type": "stream",
     "text": [
      "Saved data for SILK to artifacts/data_ingestion/pakistan_stocks/raw_data\\SILK.csv\n",
      "Downloading data for PACE...\n"
     ]
    },
    {
     "name": "stderr",
     "output_type": "stream",
     "text": [
      "Downloading PACE's Data: 100%|██████████| 158/158 [00:24<00:00,  6.42it/s]\n",
      "c:\\Users\\user\\AppData\\Local\\Programs\\Python\\Python312\\Lib\\site-packages\\psx\\web.py:100: FutureWarning: The behavior of array concatenation with empty entries is deprecated. In a future version, this will no longer exclude empty items when determining the result dtype. To retain the old behavior, exclude the empty entries before the concat operation.\n",
      "  data = pd.concat(data)\n"
     ]
    },
    {
     "name": "stdout",
     "output_type": "stream",
     "text": [
      "Saved data for PACE to artifacts/data_ingestion/pakistan_stocks/raw_data\\PACE.csv\n",
      "Downloading data for FFL...\n"
     ]
    },
    {
     "name": "stderr",
     "output_type": "stream",
     "text": [
      "Downloading FFL's Data: 100%|██████████| 158/158 [00:23<00:00,  6.69it/s]\n",
      "c:\\Users\\user\\AppData\\Local\\Programs\\Python\\Python312\\Lib\\site-packages\\psx\\web.py:100: FutureWarning: The behavior of array concatenation with empty entries is deprecated. In a future version, this will no longer exclude empty items when determining the result dtype. To retain the old behavior, exclude the empty entries before the concat operation.\n",
      "  data = pd.concat(data)\n"
     ]
    },
    {
     "name": "stdout",
     "output_type": "stream",
     "text": [
      "Saved data for FFL to artifacts/data_ingestion/pakistan_stocks/raw_data\\FFL.csv\n",
      "Downloading data for BOP...\n"
     ]
    },
    {
     "name": "stderr",
     "output_type": "stream",
     "text": [
      "Downloading BOP's Data: 100%|██████████| 158/158 [00:23<00:00,  6.79it/s]\n",
      "c:\\Users\\user\\AppData\\Local\\Programs\\Python\\Python312\\Lib\\site-packages\\psx\\web.py:100: FutureWarning: The behavior of array concatenation with empty entries is deprecated. In a future version, this will no longer exclude empty items when determining the result dtype. To retain the old behavior, exclude the empty entries before the concat operation.\n",
      "  data = pd.concat(data)\n"
     ]
    },
    {
     "name": "stdout",
     "output_type": "stream",
     "text": [
      "Saved data for BOP to artifacts/data_ingestion/pakistan_stocks/raw_data\\BOP.csv\n"
     ]
    }
   ],
   "source": [
    "try:\n",
    "    config = ConfigurationManager()\n",
    "    data_ingestion_config = config.get_data_ingestion_config()\n",
    "    data_ingestion = DataIngestion(config=data_ingestion_config)\n",
    "    data_ingestion.get_data()\n",
    "except Exception as e:\n",
    "    print(f\"An error occurred: {e}\")\n",
    "    raise e\n"
   ]
  }
 ],
 "metadata": {
  "kernelspec": {
   "display_name": "Python 3",
   "language": "python",
   "name": "python3"
  },
  "language_info": {
   "codemirror_mode": {
    "name": "ipython",
    "version": 3
   },
   "file_extension": ".py",
   "mimetype": "text/x-python",
   "name": "python",
   "nbconvert_exporter": "python",
   "pygments_lexer": "ipython3",
   "version": "3.12.0"
  }
 },
 "nbformat": 4,
 "nbformat_minor": 2
}
