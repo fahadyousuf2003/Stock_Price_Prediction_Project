{
 "cells": [
  {
   "cell_type": "code",
   "execution_count": 1,
   "metadata": {},
   "outputs": [],
   "source": [
    "import os"
   ]
  },
  {
   "cell_type": "code",
   "execution_count": 2,
   "metadata": {},
   "outputs": [
    {
     "data": {
      "text/plain": [
       "'d:\\\\Projects\\\\Stock_Price_Prediction_Project\\\\research'"
      ]
     },
     "execution_count": 2,
     "metadata": {},
     "output_type": "execute_result"
    }
   ],
   "source": [
    "%pwd"
   ]
  },
  {
   "cell_type": "code",
   "execution_count": 3,
   "metadata": {},
   "outputs": [],
   "source": [
    "os.chdir(\"../\")"
   ]
  },
  {
   "cell_type": "code",
   "execution_count": 4,
   "metadata": {},
   "outputs": [
    {
     "data": {
      "text/plain": [
       "'d:\\\\Projects\\\\Stock_Price_Prediction_Project'"
      ]
     },
     "execution_count": 4,
     "metadata": {},
     "output_type": "execute_result"
    }
   ],
   "source": [
    "%pwd"
   ]
  },
  {
   "cell_type": "code",
   "execution_count": 5,
   "metadata": {},
   "outputs": [],
   "source": [
    "from dataclasses import dataclass\n",
    "from pathlib import Path\n",
    "\n",
    "@dataclass(frozen=True)\n",
    "class ModelTrainerConfig:\n",
    "    root_dir: Path\n",
    "    apple_transformed_data_dir: Path\n",
    "    amazon_transformed_data_dir: Path\n",
    "    google_transformed_data_dir: Path\n",
    "    microsoft_transformed_data_dir: Path\n",
    "    apple_model_name: Path\n",
    "    amazon_model_name: Path\n",
    "    google_model_name: Path\n",
    "    microsoft_model_name: Path\n",
    "    layer1: int\n",
    "    layer2: int\n",
    "    layer3: int\n",
    "    layer4: int\n",
    "    optimizer: str\n",
    "    loss: str\n",
    "    batch_size: int\n",
    "    epochs: int"
   ]
  },
  {
   "cell_type": "code",
   "execution_count": 6,
   "metadata": {},
   "outputs": [],
   "source": [
    "from smPredictor.constants import *\n",
    "from smPredictor.utils.common import read_yaml, create_directories"
   ]
  },
  {
   "cell_type": "code",
   "execution_count": 7,
   "metadata": {},
   "outputs": [],
   "source": [
    "class ConfigurationManager:\n",
    "    def __init__(\n",
    "        self,\n",
    "        config_filepath=CONFIG_FILE_PATH,\n",
    "        params_filepath=PARAMS_FILE_PATH\n",
    "    ):\n",
    "        self.config = read_yaml(config_filepath)\n",
    "        self.params = read_yaml(params_filepath)\n",
    "\n",
    "        create_directories([self.config.artifacts_root])\n",
    "        \n",
    "    def get_model_trainer_config(self) -> ModelTrainerConfig:\n",
    "        config = self.config.model_trainer\n",
    "        params = self.params\n",
    "        \n",
    "        create_directories([config.root_dir])\n",
    "        \n",
    "        model_trainer_config = ModelTrainerConfig(\n",
    "            root_dir=config.root_dir,\n",
    "            apple_transformed_data_dir=config.apple_transformed_data_dir,\n",
    "            amazon_transformed_data_dir=config.amazon_transformed_data_dir,\n",
    "            google_transformed_data_dir=config.google_transformed_data_dir,\n",
    "            microsoft_transformed_data_dir=config.microsoft_transformed_data_dir,\n",
    "            apple_model_name=config.apple_model_name,\n",
    "            amazon_model_name=config.amazon_model_name,\n",
    "            google_model_name=config.google_model_name,\n",
    "            microsoft_model_name=config.microsoft_model_name,\n",
    "            layer1=params.layer1,\n",
    "            layer2=params.layer2,\n",
    "            layer3=params.layer3,\n",
    "            layer4=params.layer4,\n",
    "            optimizer=params.optimizer,\n",
    "            loss=params.loss,\n",
    "            batch_size=params.batch_size,\n",
    "            epochs=params.epochs\n",
    "        )\n",
    "        \n",
    "        return model_trainer_config"
   ]
  },
  {
   "cell_type": "code",
   "execution_count": 8,
   "metadata": {},
   "outputs": [],
   "source": [
    "import numpy as np\n",
    "import pandas as pd\n",
    "from smPredictor import logger\n",
    "import os\n",
    "from keras.models import Sequential\n",
    "from keras.layers import Dense, LSTM\n",
    "from keras.models import save_model"
   ]
  },
  {
   "cell_type": "code",
   "execution_count": 9,
   "metadata": {},
   "outputs": [],
   "source": [
    "class ModelTrainer:\n",
    "    def __init__(self, config):\n",
    "        self.config = config\n",
    "\n",
    "    def train(self):\n",
    "        # Training of Apple Model\n",
    "        apple_df = pd.read_csv(self.config.apple_transformed_data_dir)\n",
    "        apple_df = apple_df.astype(float)  # Ensure numeric data\n",
    "        apple_x_train = []\n",
    "        apple_y_train = []\n",
    "        for i in range(60, len(apple_df)):\n",
    "            apple_x_train.append(apple_df.iloc[i-60:i, 0].values)\n",
    "            apple_y_train.append(apple_df.iloc[i, 0])\n",
    "            if i <= 61:\n",
    "                print(apple_x_train)\n",
    "                print(apple_y_train)\n",
    "                print()\n",
    "        apple_x_train, apple_y_train = np.array(apple_x_train), np.array(apple_y_train)\n",
    "        apple_x_train = np.reshape(apple_x_train, (apple_x_train.shape[0], apple_x_train.shape[1], 1))\n",
    "        apple_model = Sequential()\n",
    "        apple_model.add(LSTM(self.config.layer1, return_sequences=True, input_shape=(apple_x_train.shape[1], 1)))\n",
    "        apple_model.add(LSTM(self.config.layer2, return_sequences=False))\n",
    "        apple_model.add(Dense(self.config.layer3))\n",
    "        apple_model.add(Dense(self.config.layer4))\n",
    "        apple_model.compile(optimizer=self.config.optimizer, loss=self.config.loss)\n",
    "        apple_model.fit(apple_x_train, apple_y_train, batch_size=self.config.batch_size, epochs=self.config.epochs)\n",
    "        apple_model.save(os.path.join(self.config.root_dir, self.config.apple_model_name))  # Save model\n",
    "\n",
    "        # Training of Amazon Model\n",
    "        amazon_df = pd.read_csv(self.config.amazon_transformed_data_dir)\n",
    "        amazon_df = amazon_df.astype(float)  # Ensure numeric data\n",
    "        amazon_x_train = []\n",
    "        amazon_y_train = []\n",
    "        for i in range(60, len(amazon_df)):\n",
    "            amazon_x_train.append(amazon_df.iloc[i-60:i, 0].values)\n",
    "            amazon_y_train.append(amazon_df.iloc[i, 0])\n",
    "            if i <= 61:\n",
    "                print(amazon_x_train)\n",
    "                print(amazon_y_train)\n",
    "                print()\n",
    "        amazon_x_train, amazon_y_train = np.array(amazon_x_train), np.array(amazon_y_train)\n",
    "        amazon_x_train = np.reshape(amazon_x_train, (amazon_x_train.shape[0], amazon_x_train.shape[1], 1))\n",
    "        amazon_model = Sequential()\n",
    "        amazon_model.add(LSTM(self.config.layer1, return_sequences=True, input_shape=(amazon_x_train.shape[1], 1)))\n",
    "        amazon_model.add(LSTM(self.config.layer2, return_sequences=False))\n",
    "        amazon_model.add(Dense(self.config.layer3))\n",
    "        amazon_model.add(Dense(self.config.layer4))\n",
    "        amazon_model.compile(optimizer=self.config.optimizer, loss=self.config.loss)\n",
    "        amazon_model.fit(amazon_x_train, amazon_y_train, batch_size=self.config.batch_size, epochs=self.config.epochs)\n",
    "        amazon_model.save(os.path.join(self.config.root_dir, self.config.amazon_model_name))  # Save model\n",
    "\n",
    "        # Training of Google Model\n",
    "        google_df = pd.read_csv(self.config.google_transformed_data_dir)\n",
    "        google_df = google_df.astype(float)  # Ensure numeric data\n",
    "        google_x_train = []\n",
    "        google_y_train = []\n",
    "        for i in range(60, len(google_df)):\n",
    "            google_x_train.append(google_df.iloc[i-60:i, 0].values)\n",
    "            google_y_train.append(google_df.iloc[i, 0])\n",
    "            if i <= 61:\n",
    "                print(google_x_train)\n",
    "                print(google_y_train)\n",
    "                print()\n",
    "        google_x_train, google_y_train = np.array(google_x_train), np.array(google_y_train)\n",
    "        google_x_train = np.reshape(google_x_train, (google_x_train.shape[0], google_x_train.shape[1], 1))\n",
    "        google_model = Sequential()\n",
    "        google_model.add(LSTM(self.config.layer1, return_sequences=True, input_shape=(google_x_train.shape[1], 1)))\n",
    "        google_model.add(LSTM(self.config.layer2, return_sequences=False))\n",
    "        google_model.add(Dense(self.config.layer3))\n",
    "        google_model.add(Dense(self.config.layer4))\n",
    "        google_model.compile(optimizer=self.config.optimizer, loss=self.config.loss)\n",
    "        google_model.fit(google_x_train, google_y_train, batch_size=self.config.batch_size, epochs=self.config.epochs)\n",
    "        google_model.save(os.path.join(self.config.root_dir, self.config.google_model_name))  # Save model\n",
    "\n",
    "        # Training of Microsoft Model\n",
    "        microsoft_df = pd.read_csv(self.config.microsoft_transformed_data_dir)\n",
    "        microsoft_df = microsoft_df.astype(float)  # Ensure numeric data\n",
    "        microsoft_x_train = []\n",
    "        microsoft_y_train = []\n",
    "        for i in range(60, len(microsoft_df)):\n",
    "            microsoft_x_train.append(microsoft_df.iloc[i-60:i, 0].values)\n",
    "            microsoft_y_train.append(microsoft_df.iloc[i, 0])\n",
    "            if i <= 61:\n",
    "                print(microsoft_x_train)\n",
    "                print(microsoft_y_train)\n",
    "                print()\n",
    "        microsoft_x_train, microsoft_y_train = np.array(microsoft_x_train), np.array(microsoft_y_train)\n",
    "        microsoft_x_train = np.reshape(microsoft_x_train, (microsoft_x_train.shape[0], microsoft_x_train.shape[1], 1))\n",
    "        microsoft_model = Sequential()\n",
    "        microsoft_model.add(LSTM(self.config.layer1, return_sequences=True, input_shape=(microsoft_x_train.shape[1], 1)))\n",
    "        microsoft_model.add(LSTM(self.config.layer2, return_sequences=False))\n",
    "        microsoft_model.add(Dense(self.config.layer3))\n",
    "        microsoft_model.add(Dense(self.config.layer4))\n",
    "        microsoft_model.compile(optimizer=self.config.optimizer, loss=self.config.loss)\n",
    "        microsoft_model.fit(microsoft_x_train, microsoft_y_train, batch_size=self.config.batch_size, epochs=self.config.epochs)\n",
    "        microsoft_model.save(os.path.join(self.config.root_dir, self.config.microsoft_model_name))  # Save model\n"
   ]
  },
  {
   "cell_type": "code",
   "execution_count": 11,
   "metadata": {},
   "outputs": [
    {
     "name": "stdout",
     "output_type": "stream",
     "text": [
      "[2024-11-29 14:52:29,216: INFO: common: yaml file: config\\config.yaml loaded successfully]\n",
      "[2024-11-29 14:52:29,221: INFO: common: yaml file: params.yaml loaded successfully]\n",
      "[2024-11-29 14:52:29,223: INFO: common: created directory at: artifacts]\n",
      "[2024-11-29 14:52:29,228: INFO: common: created directory at: artifacts/model_trainer]\n"
     ]
    },
    {
     "name": "stdout",
     "output_type": "stream",
     "text": [
      "[array([0.00332215, 0.00367683, 0.00441348, 0.00511482, 0.00500729,\n",
      "       0.00524963, 0.00513889, 0.00495273, 0.00469915, 0.00548395,\n",
      "       0.00619171, 0.00597344, 0.00477779, 0.00591888, 0.00479545,\n",
      "       0.00900831, 0.00868252, 0.00910782, 0.01002743, 0.01058432,\n",
      "       0.01053778, 0.01036606, 0.0110979 , 0.0117864 , 0.01256638,\n",
      "       0.01382623, 0.01647271, 0.01651284, 0.01798614, 0.0190871 ,\n",
      "       0.01719492, 0.01792354, 0.0179091 , 0.01995214, 0.01966165,\n",
      "       0.02019929, 0.02116544, 0.02170309, 0.02325182, 0.02438006,\n",
      "       0.02470586, 0.02481981, 0.02289072, 0.02242529, 0.02249431,\n",
      "       0.02430785, 0.02481821, 0.02591436, 0.02849824, 0.03194558,\n",
      "       0.0313004 , 0.03130201, 0.03379442, 0.03457441, 0.03401911,\n",
      "       0.03351196, 0.03298395, 0.0347381 , 0.03594178, 0.03644572])]\n",
      "[0.0352003144017212]\n",
      "\n",
      "[array([0.00332215, 0.00367683, 0.00441348, 0.00511482, 0.00500729,\n",
      "       0.00524963, 0.00513889, 0.00495273, 0.00469915, 0.00548395,\n",
      "       0.00619171, 0.00597344, 0.00477779, 0.00591888, 0.00479545,\n",
      "       0.00900831, 0.00868252, 0.00910782, 0.01002743, 0.01058432,\n",
      "       0.01053778, 0.01036606, 0.0110979 , 0.0117864 , 0.01256638,\n",
      "       0.01382623, 0.01647271, 0.01651284, 0.01798614, 0.0190871 ,\n",
      "       0.01719492, 0.01792354, 0.0179091 , 0.01995214, 0.01966165,\n",
      "       0.02019929, 0.02116544, 0.02170309, 0.02325182, 0.02438006,\n",
      "       0.02470586, 0.02481981, 0.02289072, 0.02242529, 0.02249431,\n",
      "       0.02430785, 0.02481821, 0.02591436, 0.02849824, 0.03194558,\n",
      "       0.0313004 , 0.03130201, 0.03379442, 0.03457441, 0.03401911,\n",
      "       0.03351196, 0.03298395, 0.0347381 , 0.03594178, 0.03644572]), array([0.00367683, 0.00441348, 0.00511482, 0.00500729, 0.00524963,\n",
      "       0.00513889, 0.00495273, 0.00469915, 0.00548395, 0.00619171,\n",
      "       0.00597344, 0.00477779, 0.00591888, 0.00479545, 0.00900831,\n",
      "       0.00868252, 0.00910782, 0.01002743, 0.01058432, 0.01053778,\n",
      "       0.01036606, 0.0110979 , 0.0117864 , 0.01256638, 0.01382623,\n",
      "       0.01647271, 0.01651284, 0.01798614, 0.0190871 , 0.01719492,\n",
      "       0.01792354, 0.0179091 , 0.01995214, 0.01966165, 0.02019929,\n",
      "       0.02116544, 0.02170309, 0.02325182, 0.02438006, 0.02470586,\n",
      "       0.02481981, 0.02289072, 0.02242529, 0.02249431, 0.02430785,\n",
      "       0.02481821, 0.02591436, 0.02849824, 0.03194558, 0.0313004 ,\n",
      "       0.03130201, 0.03379442, 0.03457441, 0.03401911, 0.03351196,\n",
      "       0.03298395, 0.0347381 , 0.03594178, 0.03644572, 0.03520031])]\n",
      "[0.0352003144017212, 0.0335456632338576]\n",
      "\n"
     ]
    },
    {
     "name": "stderr",
     "output_type": "stream",
     "text": [
      "c:\\Users\\user\\AppData\\Local\\Programs\\Python\\Python312\\Lib\\site-packages\\keras\\src\\layers\\rnn\\rnn.py:200: UserWarning: Do not pass an `input_shape`/`input_dim` argument to a layer. When using Sequential models, prefer using an `Input(shape)` object as the first layer in the model instead.\n",
      "  super().__init__(**kwargs)\n"
     ]
    },
    {
     "name": "stdout",
     "output_type": "stream",
     "text": [
      "\u001b[1m3026/3026\u001b[0m \u001b[32m━━━━━━━━━━━━━━━━━━━━\u001b[0m\u001b[37m\u001b[0m \u001b[1m126s\u001b[0m 40ms/step - loss: 0.0040\n",
      "[array([0.00332215, 0.00367683, 0.00441348, 0.00511482, 0.00500729,\n",
      "       0.00524963, 0.00513889, 0.00495273, 0.00469915, 0.00548395,\n",
      "       0.00619171, 0.00597344, 0.00477779, 0.00591888, 0.00479545,\n",
      "       0.00900831, 0.00868252, 0.00910782, 0.01002743, 0.01058432,\n",
      "       0.01053778, 0.01036606, 0.0110979 , 0.0117864 , 0.01256638,\n",
      "       0.01382623, 0.01647271, 0.01651284, 0.01798614, 0.0190871 ,\n",
      "       0.01719492, 0.01792354, 0.0179091 , 0.01995214, 0.01966165,\n",
      "       0.02019929, 0.02116544, 0.02170309, 0.02325182, 0.02438006,\n",
      "       0.02470586, 0.02481981, 0.02289072, 0.02242529, 0.02249431,\n",
      "       0.02430785, 0.02481821, 0.02591436, 0.02849824, 0.03194558,\n",
      "       0.0313004 , 0.03130201, 0.03379442, 0.03457441, 0.03401911,\n",
      "       0.03351196, 0.03298395, 0.0347381 , 0.03594178, 0.03644572])]\n",
      "[0.0352003144017212]\n",
      "\n",
      "[array([0.00332215, 0.00367683, 0.00441348, 0.00511482, 0.00500729,\n",
      "       0.00524963, 0.00513889, 0.00495273, 0.00469915, 0.00548395,\n",
      "       0.00619171, 0.00597344, 0.00477779, 0.00591888, 0.00479545,\n",
      "       0.00900831, 0.00868252, 0.00910782, 0.01002743, 0.01058432,\n",
      "       0.01053778, 0.01036606, 0.0110979 , 0.0117864 , 0.01256638,\n",
      "       0.01382623, 0.01647271, 0.01651284, 0.01798614, 0.0190871 ,\n",
      "       0.01719492, 0.01792354, 0.0179091 , 0.01995214, 0.01966165,\n",
      "       0.02019929, 0.02116544, 0.02170309, 0.02325182, 0.02438006,\n",
      "       0.02470586, 0.02481981, 0.02289072, 0.02242529, 0.02249431,\n",
      "       0.02430785, 0.02481821, 0.02591436, 0.02849824, 0.03194558,\n",
      "       0.0313004 , 0.03130201, 0.03379442, 0.03457441, 0.03401911,\n",
      "       0.03351196, 0.03298395, 0.0347381 , 0.03594178, 0.03644572]), array([0.00367683, 0.00441348, 0.00511482, 0.00500729, 0.00524963,\n",
      "       0.00513889, 0.00495273, 0.00469915, 0.00548395, 0.00619171,\n",
      "       0.00597344, 0.00477779, 0.00591888, 0.00479545, 0.00900831,\n",
      "       0.00868252, 0.00910782, 0.01002743, 0.01058432, 0.01053778,\n",
      "       0.01036606, 0.0110979 , 0.0117864 , 0.01256638, 0.01382623,\n",
      "       0.01647271, 0.01651284, 0.01798614, 0.0190871 , 0.01719492,\n",
      "       0.01792354, 0.0179091 , 0.01995214, 0.01966165, 0.02019929,\n",
      "       0.02116544, 0.02170309, 0.02325182, 0.02438006, 0.02470586,\n",
      "       0.02481981, 0.02289072, 0.02242529, 0.02249431, 0.02430785,\n",
      "       0.02481821, 0.02591436, 0.02849824, 0.03194558, 0.0313004 ,\n",
      "       0.03130201, 0.03379442, 0.03457441, 0.03401911, 0.03351196,\n",
      "       0.03298395, 0.0347381 , 0.03594178, 0.03644572, 0.03520031])]\n",
      "[0.0352003144017212, 0.0335456632338576]\n",
      "\n"
     ]
    },
    {
     "name": "stderr",
     "output_type": "stream",
     "text": [
      "c:\\Users\\user\\AppData\\Local\\Programs\\Python\\Python312\\Lib\\site-packages\\keras\\src\\layers\\rnn\\rnn.py:200: UserWarning: Do not pass an `input_shape`/`input_dim` argument to a layer. When using Sequential models, prefer using an `Input(shape)` object as the first layer in the model instead.\n",
      "  super().__init__(**kwargs)\n"
     ]
    },
    {
     "name": "stdout",
     "output_type": "stream",
     "text": [
      "\u001b[1m3026/3026\u001b[0m \u001b[32m━━━━━━━━━━━━━━━━━━━━\u001b[0m\u001b[37m\u001b[0m \u001b[1m97s\u001b[0m 31ms/step - loss: 0.0016\n",
      "[array([0.00332215, 0.00367683, 0.00441348, 0.00511482, 0.00500729,\n",
      "       0.00524963, 0.00513889, 0.00495273, 0.00469915, 0.00548395,\n",
      "       0.00619171, 0.00597344, 0.00477779, 0.00591888, 0.00479545,\n",
      "       0.00900831, 0.00868252, 0.00910782, 0.01002743, 0.01058432,\n",
      "       0.01053778, 0.01036606, 0.0110979 , 0.0117864 , 0.01256638,\n",
      "       0.01382623, 0.01647271, 0.01651284, 0.01798614, 0.0190871 ,\n",
      "       0.01719492, 0.01792354, 0.0179091 , 0.01995214, 0.01966165,\n",
      "       0.02019929, 0.02116544, 0.02170309, 0.02325182, 0.02438006,\n",
      "       0.02470586, 0.02481981, 0.02289072, 0.02242529, 0.02249431,\n",
      "       0.02430785, 0.02481821, 0.02591436, 0.02849824, 0.03194558,\n",
      "       0.0313004 , 0.03130201, 0.03379442, 0.03457441, 0.03401911,\n",
      "       0.03351196, 0.03298395, 0.0347381 , 0.03594178, 0.03644572])]\n",
      "[0.0352003144017212]\n",
      "\n",
      "[array([0.00332215, 0.00367683, 0.00441348, 0.00511482, 0.00500729,\n",
      "       0.00524963, 0.00513889, 0.00495273, 0.00469915, 0.00548395,\n",
      "       0.00619171, 0.00597344, 0.00477779, 0.00591888, 0.00479545,\n",
      "       0.00900831, 0.00868252, 0.00910782, 0.01002743, 0.01058432,\n",
      "       0.01053778, 0.01036606, 0.0110979 , 0.0117864 , 0.01256638,\n",
      "       0.01382623, 0.01647271, 0.01651284, 0.01798614, 0.0190871 ,\n",
      "       0.01719492, 0.01792354, 0.0179091 , 0.01995214, 0.01966165,\n",
      "       0.02019929, 0.02116544, 0.02170309, 0.02325182, 0.02438006,\n",
      "       0.02470586, 0.02481981, 0.02289072, 0.02242529, 0.02249431,\n",
      "       0.02430785, 0.02481821, 0.02591436, 0.02849824, 0.03194558,\n",
      "       0.0313004 , 0.03130201, 0.03379442, 0.03457441, 0.03401911,\n",
      "       0.03351196, 0.03298395, 0.0347381 , 0.03594178, 0.03644572]), array([0.00367683, 0.00441348, 0.00511482, 0.00500729, 0.00524963,\n",
      "       0.00513889, 0.00495273, 0.00469915, 0.00548395, 0.00619171,\n",
      "       0.00597344, 0.00477779, 0.00591888, 0.00479545, 0.00900831,\n",
      "       0.00868252, 0.00910782, 0.01002743, 0.01058432, 0.01053778,\n",
      "       0.01036606, 0.0110979 , 0.0117864 , 0.01256638, 0.01382623,\n",
      "       0.01647271, 0.01651284, 0.01798614, 0.0190871 , 0.01719492,\n",
      "       0.01792354, 0.0179091 , 0.01995214, 0.01966165, 0.02019929,\n",
      "       0.02116544, 0.02170309, 0.02325182, 0.02438006, 0.02470586,\n",
      "       0.02481981, 0.02289072, 0.02242529, 0.02249431, 0.02430785,\n",
      "       0.02481821, 0.02591436, 0.02849824, 0.03194558, 0.0313004 ,\n",
      "       0.03130201, 0.03379442, 0.03457441, 0.03401911, 0.03351196,\n",
      "       0.03298395, 0.0347381 , 0.03594178, 0.03644572, 0.03520031])]\n",
      "[0.0352003144017212, 0.0335456632338576]\n",
      "\n"
     ]
    },
    {
     "name": "stderr",
     "output_type": "stream",
     "text": [
      "c:\\Users\\user\\AppData\\Local\\Programs\\Python\\Python312\\Lib\\site-packages\\keras\\src\\layers\\rnn\\rnn.py:200: UserWarning: Do not pass an `input_shape`/`input_dim` argument to a layer. When using Sequential models, prefer using an `Input(shape)` object as the first layer in the model instead.\n",
      "  super().__init__(**kwargs)\n"
     ]
    },
    {
     "name": "stdout",
     "output_type": "stream",
     "text": [
      "\u001b[1m3026/3026\u001b[0m \u001b[32m━━━━━━━━━━━━━━━━━━━━\u001b[0m\u001b[37m\u001b[0m \u001b[1m96s\u001b[0m 30ms/step - loss: 0.0016\n",
      "[array([0.00332215, 0.00367683, 0.00441348, 0.00511482, 0.00500729,\n",
      "       0.00524963, 0.00513889, 0.00495273, 0.00469915, 0.00548395,\n",
      "       0.00619171, 0.00597344, 0.00477779, 0.00591888, 0.00479545,\n",
      "       0.00900831, 0.00868252, 0.00910782, 0.01002743, 0.01058432,\n",
      "       0.01053778, 0.01036606, 0.0110979 , 0.0117864 , 0.01256638,\n",
      "       0.01382623, 0.01647271, 0.01651284, 0.01798614, 0.0190871 ,\n",
      "       0.01719492, 0.01792354, 0.0179091 , 0.01995214, 0.01966165,\n",
      "       0.02019929, 0.02116544, 0.02170309, 0.02325182, 0.02438006,\n",
      "       0.02470586, 0.02481981, 0.02289072, 0.02242529, 0.02249431,\n",
      "       0.02430785, 0.02481821, 0.02591436, 0.02849824, 0.03194558,\n",
      "       0.0313004 , 0.03130201, 0.03379442, 0.03457441, 0.03401911,\n",
      "       0.03351196, 0.03298395, 0.0347381 , 0.03594178, 0.03644572])]\n",
      "[0.0352003144017212]\n",
      "\n",
      "[array([0.00332215, 0.00367683, 0.00441348, 0.00511482, 0.00500729,\n",
      "       0.00524963, 0.00513889, 0.00495273, 0.00469915, 0.00548395,\n",
      "       0.00619171, 0.00597344, 0.00477779, 0.00591888, 0.00479545,\n",
      "       0.00900831, 0.00868252, 0.00910782, 0.01002743, 0.01058432,\n",
      "       0.01053778, 0.01036606, 0.0110979 , 0.0117864 , 0.01256638,\n",
      "       0.01382623, 0.01647271, 0.01651284, 0.01798614, 0.0190871 ,\n",
      "       0.01719492, 0.01792354, 0.0179091 , 0.01995214, 0.01966165,\n",
      "       0.02019929, 0.02116544, 0.02170309, 0.02325182, 0.02438006,\n",
      "       0.02470586, 0.02481981, 0.02289072, 0.02242529, 0.02249431,\n",
      "       0.02430785, 0.02481821, 0.02591436, 0.02849824, 0.03194558,\n",
      "       0.0313004 , 0.03130201, 0.03379442, 0.03457441, 0.03401911,\n",
      "       0.03351196, 0.03298395, 0.0347381 , 0.03594178, 0.03644572]), array([0.00367683, 0.00441348, 0.00511482, 0.00500729, 0.00524963,\n",
      "       0.00513889, 0.00495273, 0.00469915, 0.00548395, 0.00619171,\n",
      "       0.00597344, 0.00477779, 0.00591888, 0.00479545, 0.00900831,\n",
      "       0.00868252, 0.00910782, 0.01002743, 0.01058432, 0.01053778,\n",
      "       0.01036606, 0.0110979 , 0.0117864 , 0.01256638, 0.01382623,\n",
      "       0.01647271, 0.01651284, 0.01798614, 0.0190871 , 0.01719492,\n",
      "       0.01792354, 0.0179091 , 0.01995214, 0.01966165, 0.02019929,\n",
      "       0.02116544, 0.02170309, 0.02325182, 0.02438006, 0.02470586,\n",
      "       0.02481981, 0.02289072, 0.02242529, 0.02249431, 0.02430785,\n",
      "       0.02481821, 0.02591436, 0.02849824, 0.03194558, 0.0313004 ,\n",
      "       0.03130201, 0.03379442, 0.03457441, 0.03401911, 0.03351196,\n",
      "       0.03298395, 0.0347381 , 0.03594178, 0.03644572, 0.03520031])]\n",
      "[0.0352003144017212, 0.0335456632338576]\n",
      "\n"
     ]
    },
    {
     "name": "stderr",
     "output_type": "stream",
     "text": [
      "c:\\Users\\user\\AppData\\Local\\Programs\\Python\\Python312\\Lib\\site-packages\\keras\\src\\layers\\rnn\\rnn.py:200: UserWarning: Do not pass an `input_shape`/`input_dim` argument to a layer. When using Sequential models, prefer using an `Input(shape)` object as the first layer in the model instead.\n",
      "  super().__init__(**kwargs)\n"
     ]
    },
    {
     "name": "stdout",
     "output_type": "stream",
     "text": [
      "\u001b[1m3026/3026\u001b[0m \u001b[32m━━━━━━━━━━━━━━━━━━━━\u001b[0m\u001b[37m\u001b[0m \u001b[1m90s\u001b[0m 29ms/step - loss: 0.0038\n"
     ]
    }
   ],
   "source": [
    "try:\n",
    "    config = ConfigurationManager()\n",
    "    model_trainer_config = config.get_model_trainer_config()\n",
    "    model_trainer = ModelTrainer(config=model_trainer_config)\n",
    "    model_trainer.train()\n",
    "except Exception as e:\n",
    "    raise e"
   ]
  }
 ],
 "metadata": {
  "kernelspec": {
   "display_name": "Python 3",
   "language": "python",
   "name": "python3"
  },
  "language_info": {
   "codemirror_mode": {
    "name": "ipython",
    "version": 3
   },
   "file_extension": ".py",
   "mimetype": "text/x-python",
   "name": "python",
   "nbconvert_exporter": "python",
   "pygments_lexer": "ipython3",
   "version": "3.12.0"
  }
 },
 "nbformat": 4,
 "nbformat_minor": 2
}
