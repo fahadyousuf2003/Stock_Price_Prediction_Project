{
 "cells": [
  {
   "cell_type": "code",
   "execution_count": 2,
   "metadata": {},
   "outputs": [],
   "source": [
    "import os"
   ]
  },
  {
   "cell_type": "code",
   "execution_count": 3,
   "metadata": {},
   "outputs": [
    {
     "data": {
      "text/plain": [
       "'d:\\\\Projects\\\\Stock_Price_Prediction_Project\\\\research'"
      ]
     },
     "execution_count": 3,
     "metadata": {},
     "output_type": "execute_result"
    }
   ],
   "source": [
    "%pwd"
   ]
  },
  {
   "cell_type": "code",
   "execution_count": 4,
   "metadata": {},
   "outputs": [],
   "source": [
    "os.chdir(\"../\")"
   ]
  },
  {
   "cell_type": "code",
   "execution_count": 5,
   "metadata": {},
   "outputs": [
    {
     "data": {
      "text/plain": [
       "'d:\\\\Projects\\\\Stock_Price_Prediction_Project'"
      ]
     },
     "execution_count": 5,
     "metadata": {},
     "output_type": "execute_result"
    }
   ],
   "source": [
    "%pwd"
   ]
  },
  {
   "cell_type": "code",
   "execution_count": 6,
   "metadata": {},
   "outputs": [],
   "source": [
    "import tensorflow as tf"
   ]
  },
  {
   "cell_type": "code",
   "execution_count": 7,
   "metadata": {},
   "outputs": [],
   "source": [
    "apple_model = tf.keras.models.load_model(\"artifacts/model_trainer/apple_model.keras\")\n",
    "amazon_model = tf.keras.models.load_model(\"artifacts/model_trainer/amazon_model.keras\")\n",
    "google_model = tf.keras.models.load_model(\"artifacts/model_trainer/google_model.keras\")\n",
    "microsoft_model = tf.keras.models.load_model(\"artifacts/model_trainer/microsoft_model.keras\")"
   ]
  },
  {
   "cell_type": "code",
   "execution_count": 8,
   "metadata": {},
   "outputs": [],
   "source": [
    "from dataclasses import dataclass\n",
    "from pathlib import Path\n",
    "\n",
    "@dataclass(frozen=True)\n",
    "class EvaluationConfig:\n",
    "    apple_model_dir:Path\n",
    "    amazon_model_dir:Path\n",
    "    google_model_dir:Path\n",
    "    microsoft_model_dir:Path\n",
    "    apple_raw_data_dir:Path\n",
    "    amazon_raw_data_dir:Path\n",
    "    google_raw_data_dir:Path\n",
    "    microsoft_raw_data_dir:Path\n",
    "    \n",
    "    \n",
    "    \n",
    "    "
   ]
  },
  {
   "cell_type": "code",
   "execution_count": 9,
   "metadata": {},
   "outputs": [],
   "source": [
    "from smPredictor.constants import *\n",
    "from smPredictor.utils.common import read_yaml, create_directories,save_json\n"
   ]
  },
  {
   "cell_type": "code",
   "execution_count": 10,
   "metadata": {},
   "outputs": [],
   "source": [
    "class ConfigurationManager:\n",
    "    def __init__(\n",
    "        self,\n",
    "        config_filepath=CONFIG_FILE_PATH,\n",
    "        params_filepath=PARAMS_FILE_PATH\n",
    "    ):\n",
    "        self.config = read_yaml(config_filepath)\n",
    "        self.params = read_yaml(params_filepath)\n",
    "\n",
    "        create_directories([self.config.artifacts_root])\n",
    "        \n",
    "    def get_validation_config(self) -> EvaluationConfig:\n",
    "        eval_config= EvaluationConfig(\n",
    "            apple_model_dir=\"artifacts/model_trainer/apple_model.keras\",\n",
    "            amazon_model_dir=\"artifacts/model_trainer/amazon_model.keras\",\n",
    "            google_model_dir=\"artifacts/model_trainer/google_model.keras\",\n",
    "            microsoft_model_dir=\"artifacts/model_trainer/microsoft_model.keras\",\n",
    "            apple_raw_data_dir=\"artifacts/data_ingestion/raw_data/AAPL.csv\",\n",
    "            amazon_raw_data_dir=\"artifacts/data_ingestion/raw_data/AMZN.csv\",\n",
    "            google_raw_data_dir=\"artifacts/data_ingestion/raw_data/GOOG.csv\",\n",
    "            microsoft_raw_data_dir=\"artifacts/data_ingestion/raw_data/MSFT.csv\"\n",
    "        )\n",
    "        return eval_config"
   ]
  },
  {
   "cell_type": "code",
   "execution_count": 21,
   "metadata": {},
   "outputs": [],
   "source": [
    "import pandas as pd\n",
    "from smPredictor import logger\n",
    "import numpy as np\n",
    "from sklearn.preprocessing import MinMaxScaler\n",
    "from pathlib import Path\n",
    "import os"
   ]
  },
  {
   "cell_type": "code",
   "execution_count": 25,
   "metadata": {},
   "outputs": [],
   "source": [
    "class Evaluation:\n",
    "    def __init__(self, config):\n",
    "        self.config = config\n",
    "    \n",
    "    def create_rmse_directory(self):\n",
    "        # Create the model_rmse directory if it doesn't exist\n",
    "        rmse_dir = Path(\"artifacts/model_rmse\")\n",
    "        rmse_dir.mkdir(parents=True, exist_ok=True)\n",
    "        \n",
    "    def evaluate(self):\n",
    "        # Evaluate Apple Model on Test Data\n",
    "        apple_scaler = MinMaxScaler(feature_range=(0, 1))\n",
    "        apple_raw_data = pd.read_csv(self.config.apple_raw_data_dir)\n",
    "        apple_raw_data = apple_raw_data.iloc[1:]\n",
    "        apple_raw_data.rename(columns={\"Price\": \"Date\"}, inplace=True)\n",
    "        apple_raw_data = apple_raw_data.filter(['Close'])\n",
    "        apple_raw_data['Close'] = pd.to_numeric(apple_raw_data['Close'], errors='coerce')\n",
    "        apple_raw_data = apple_raw_data.dropna()\n",
    "        apple_dataset = apple_raw_data.values\n",
    "        apple_training_data_len = int(np.ceil(len(apple_dataset) * .95))\n",
    "        apple_scaled_data = apple_scaler.fit_transform(apple_dataset)\n",
    "        apple_test_data = apple_scaled_data[apple_training_data_len - 60:, :]\n",
    "        apple_x_test = []\n",
    "        apple_y_test = apple_dataset[apple_training_data_len:, :]\n",
    "        for i in range(60, len(apple_test_data)):\n",
    "            apple_x_test.append(apple_test_data[i - 60:i, 0])\n",
    "        apple_x_test = np.array(apple_x_test)\n",
    "        apple_x_test = np.reshape(apple_x_test, (apple_x_test.shape[0], apple_x_test.shape[1], 1))\n",
    "        apple_predictions = apple_model.predict(apple_x_test)\n",
    "        apple_predictions = apple_scaler.inverse_transform(apple_predictions)\n",
    "        apple_rmse = np.sqrt(np.mean((apple_predictions - apple_y_test) ** 2))\n",
    "        save_json(path=Path(\"artifacts/model_rmse/apple_rmse.json\"), data={\"RMSE\": apple_rmse})\n",
    "        \n",
    "        # Evaluate Amazon Model on Test Data\n",
    "        amazon_scaler = MinMaxScaler(feature_range=(0, 1))\n",
    "        amazon_raw_data = pd.read_csv(self.config.amazon_raw_data_dir)\n",
    "        amazon_raw_data = amazon_raw_data.iloc[1:]\n",
    "        amazon_raw_data.rename(columns={\"Price\": \"Date\"}, inplace=True)\n",
    "        amazon_raw_data = amazon_raw_data.filter(['Close'])\n",
    "        amazon_raw_data['Close'] = pd.to_numeric(amazon_raw_data['Close'], errors='coerce')\n",
    "        amazon_raw_data = amazon_raw_data.dropna()\n",
    "        amazon_dataset = amazon_raw_data.values\n",
    "        amazon_training_data_len = int(np.ceil(len(amazon_dataset) * .95))\n",
    "        amazon_scaled_data = amazon_scaler.fit_transform(amazon_dataset)\n",
    "        amazon_test_data = amazon_scaled_data[amazon_training_data_len - 60:, :]\n",
    "        amazon_x_test = []\n",
    "        amazon_y_test = amazon_dataset[amazon_training_data_len:, :]\n",
    "        for i in range(60, len(amazon_test_data)):\n",
    "            amazon_x_test.append(amazon_test_data[i - 60:i, 0])\n",
    "        amazon_x_test = np.array(amazon_x_test)\n",
    "        amazon_x_test = np.reshape(amazon_x_test, (amazon_x_test.shape[0], amazon_x_test.shape[1], 1))\n",
    "        amazon_predictions = amazon_model.predict(amazon_x_test)\n",
    "        amazon_predictions = amazon_scaler.inverse_transform(amazon_predictions)\n",
    "        amazon_rmse = np.sqrt(np.mean((amazon_predictions - amazon_y_test) ** 2))\n",
    "        save_json(path=Path(\"artifacts/model_rmse/amazon_rmse.json\"), data={\"RMSE\": amazon_rmse})\n",
    "        \n",
    "        # Evaluate Google Model on Test Data\n",
    "        google_scaler = MinMaxScaler(feature_range=(0, 1))\n",
    "        google_raw_data = pd.read_csv(self.config.google_raw_data_dir)\n",
    "        google_raw_data = google_raw_data.iloc[1:]\n",
    "        google_raw_data.rename(columns={\"Price\": \"Date\"}, inplace=True)\n",
    "        google_raw_data = google_raw_data.filter(['Close'])\n",
    "        google_raw_data['Close'] = pd.to_numeric(google_raw_data['Close'], errors='coerce')\n",
    "        google_raw_data = google_raw_data.dropna()\n",
    "        google_dataset = google_raw_data.values\n",
    "        google_training_data_len = int(np.ceil(len(google_dataset) * .95))\n",
    "        google_scaled_data = google_scaler.fit_transform(google_dataset)\n",
    "        google_test_data = google_scaled_data[google_training_data_len - 60:, :]\n",
    "        google_x_test = []\n",
    "        google_y_test = google_dataset[google_training_data_len:, :]\n",
    "        for i in range(60, len(google_test_data)):\n",
    "            google_x_test.append(google_test_data[i - 60:i, 0])\n",
    "        google_x_test = np.array(google_x_test)\n",
    "        google_x_test = np.reshape(google_x_test, (google_x_test.shape[0], google_x_test.shape[1], 1))\n",
    "        google_predictions = google_model.predict(google_x_test)\n",
    "        google_predictions = google_scaler.inverse_transform(google_predictions)\n",
    "        google_rmse = np.sqrt(np.mean((google_predictions - google_y_test) ** 2))\n",
    "        save_json(path=Path(\"artifacts/model_rmse/google_rmse.json\"), data={\"RMSE\": google_rmse})\n",
    "        \n",
    "        # Evaluate Microsoft Model on Test Data\n",
    "        microsoft_scaler = MinMaxScaler(feature_range=(0, 1))\n",
    "        microsoft_raw_data = pd.read_csv(self.config.microsoft_raw_data_dir)\n",
    "        microsoft_raw_data = microsoft_raw_data.iloc[1:]\n",
    "        microsoft_raw_data.rename(columns={\"Price\": \"Date\"}, inplace=True)\n",
    "        microsoft_raw_data = microsoft_raw_data.filter(['Close'])\n",
    "        microsoft_raw_data['Close'] = pd.to_numeric(microsoft_raw_data['Close'], errors='coerce')\n",
    "        microsoft_raw_data = microsoft_raw_data.dropna()\n",
    "        microsoft_dataset = microsoft_raw_data.values\n",
    "        microsoft_training_data_len = int(np.ceil(len(microsoft_dataset) * .95))\n",
    "        microsoft_scaled_data = microsoft_scaler.fit_transform(microsoft_dataset)\n",
    "        microsoft_test_data = microsoft_scaled_data[microsoft_training_data_len - 60:, :]\n",
    "        microsoft_x_test = []\n",
    "        microsoft_y_test = microsoft_dataset[microsoft_training_data_len:, :]\n",
    "        for i in range(60, len(microsoft_test_data)):\n",
    "            microsoft_x_test.append(microsoft_test_data[i - 60:i, 0])\n",
    "        microsoft_x_test = np.array(microsoft_x_test)\n",
    "        microsoft_x_test = np.reshape(microsoft_x_test, (microsoft_x_test.shape[0], microsoft_x_test.shape[1], 1))\n",
    "        microsoft_predictions = microsoft_model.predict(microsoft_x_test)\n",
    "        microsoft_predictions = microsoft_scaler.inverse_transform(microsoft_predictions)\n",
    "        microsoft_rmse = np.sqrt(np.mean((microsoft_predictions - microsoft_y_test) ** 2))\n",
    "        save_json(path=Path(\"artifacts/model_rmse/microsoft_rmse.json\"), data={\"RMSE\": microsoft_rmse})\n",
    "\n",
    "\n",
    "\n",
    "\n",
    "\n"
   ]
  },
  {
   "cell_type": "code",
   "execution_count": 26,
   "metadata": {},
   "outputs": [
    {
     "name": "stdout",
     "output_type": "stream",
     "text": [
      "[2024-11-30 01:22:49,470: INFO: common: yaml file: config\\config.yaml loaded successfully]\n",
      "[2024-11-30 01:22:49,478: INFO: common: yaml file: params.yaml loaded successfully]\n",
      "[2024-11-30 01:22:49,481: INFO: common: created directory at: artifacts]\n",
      "\u001b[1m6/6\u001b[0m \u001b[32m━━━━━━━━━━━━━━━━━━━━\u001b[0m\u001b[37m\u001b[0m \u001b[1m0s\u001b[0m 46ms/step\n",
      "[2024-11-30 01:22:49,954: INFO: common: json file saved at: artifacts\\model_rmse\\apple_rmse.json]\n",
      "\u001b[1m6/6\u001b[0m \u001b[32m━━━━━━━━━━━━━━━━━━━━\u001b[0m\u001b[37m\u001b[0m \u001b[1m1s\u001b[0m 100ms/step\n",
      "[2024-11-30 01:22:50,854: INFO: common: json file saved at: artifacts\\model_rmse\\amazon_rmse.json]\n",
      "\u001b[1m6/6\u001b[0m \u001b[32m━━━━━━━━━━━━━━━━━━━━\u001b[0m\u001b[37m\u001b[0m \u001b[1m0s\u001b[0m 51ms/step\n",
      "[2024-11-30 01:22:51,559: INFO: common: json file saved at: artifacts\\model_rmse\\google_rmse.json]\n",
      "\u001b[1m6/6\u001b[0m \u001b[32m━━━━━━━━━━━━━━━━━━━━\u001b[0m\u001b[37m\u001b[0m \u001b[1m0s\u001b[0m 39ms/step\n",
      "[2024-11-30 01:22:51,964: INFO: common: json file saved at: artifacts\\model_rmse\\microsoft_rmse.json]\n"
     ]
    }
   ],
   "source": [
    "try:\n",
    "    config = ConfigurationManager()\n",
    "    val_config = config.get_validation_config()\n",
    "    evaluation = Evaluation(config=val_config)\n",
    "    evaluation.create_rmse_directory()\n",
    "    evaluation.evaluate()\n",
    "except Exception as e:\n",
    "    raise e"
   ]
  }
 ],
 "metadata": {
  "kernelspec": {
   "display_name": "Python 3",
   "language": "python",
   "name": "python3"
  },
  "language_info": {
   "codemirror_mode": {
    "name": "ipython",
    "version": 3
   },
   "file_extension": ".py",
   "mimetype": "text/x-python",
   "name": "python",
   "nbconvert_exporter": "python",
   "pygments_lexer": "ipython3",
   "version": "3.12.0"
  }
 },
 "nbformat": 4,
 "nbformat_minor": 2
}
